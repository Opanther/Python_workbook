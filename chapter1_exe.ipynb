{
 "cells": [
  {
   "cell_type": "markdown",
   "source": [
    "Mailing address\n",
    "Create a program that displays your name and complete mailing address. The address should be printed in the format that is normally used in the area where you live, your program does not need to read any input from the user."
   ],
   "metadata": {
    "collapsed": false
   }
  },
  {
   "cell_type": "code",
   "execution_count": 1,
   "outputs": [
    {
     "name": "stdout",
     "output_type": "stream",
     "text": [
      "Tomi Oredein\n",
      "106 Peregrine house\n",
      "Bedwyn Mews\n",
      "Reading\n",
      "Berkshire\n",
      "RG20NZ\n"
     ]
    }
   ],
   "source": [
    "print('Tomi Oredein')\n",
    "print('106 Peregrine house')\n",
    "print('Bedwyn Mews')\n",
    "print('Reading')\n",
    "print('Berkshire')\n",
    "print('RG20NZ')"
   ],
   "metadata": {
    "collapsed": false
   }
  },
  {
   "cell_type": "markdown",
   "source": [
    "Hello\n",
    "Write a program that ask the user to enter his or her name. The program should respond with a message that says hello to the user, using his or her name.\n"
   ],
   "metadata": {
    "collapsed": false
   }
  },
  {
   "cell_type": "code",
   "execution_count": 3,
   "outputs": [
    {
     "data": {
      "text/plain": "'Hello, TomiOluwatunmiseOredein.'"
     },
     "execution_count": 3,
     "metadata": {},
     "output_type": "execute_result"
    }
   ],
   "source": [
    "First = input(\"Enter your first name: \")\n",
    "Middle = input(\"Enter your middle name: \")\n",
    "Last  = input(\"Enter your last name: \")\n",
    "name = First + Middle + Last\n",
    "f\"Hello, {name}.\""
   ],
   "metadata": {
    "collapsed": false
   }
  },
  {
   "cell_type": "markdown",
   "source": [
    "Area of a Room\n",
    "Write a program that asks the user to enter the width and length of a room. Once these values have been read your program should compute and display the area of the room. The length and the width will be entered as floating-point numbers. Include units in your prompt and output message either feet ot meteres, depending on which unit you are more comfortable working with."
   ],
   "metadata": {
    "collapsed": false
   }
  },
  {
   "cell_type": "code",
   "execution_count": 5,
   "outputs": [
    {
     "data": {
      "text/plain": "'The area of the room is 2500.0 square feet'"
     },
     "execution_count": 5,
     "metadata": {},
     "output_type": "execute_result"
    }
   ],
   "source": [
    "length = float(input(\"Enter length of room\"))\n",
    "width = float(input(\"Enter width of room\"))\n",
    "area_room = width * length\n",
    "f\"The area of the room is {area_room} square feet\""
   ],
   "metadata": {
    "collapsed": false
   }
  },
  {
   "cell_type": "markdown",
   "source": [],
   "metadata": {
    "collapsed": false
   }
  },
  {
   "cell_type": "markdown",
   "source": [
    "Create a program that reads the length and width of a farmers field from the user in feet. Display the area of the field in acres."
   ],
   "metadata": {
    "collapsed": false
   }
  },
  {
   "cell_type": "code",
   "execution_count": 6,
   "outputs": [
    {
     "data": {
      "text/plain": "'The area of the farm is 5.73921028466483 acreage'"
     },
     "execution_count": 6,
     "metadata": {},
     "output_type": "execute_result"
    }
   ],
   "source": [
    "length = float(input(\"Enter length of farm\"))\n",
    "width = float(input(\"Enter width of farm\"))\n",
    "area_farm = width * length\n",
    "acreage = area_farm/43560\n",
    "f\"The area of the farm is {acreage} acreage\""
   ],
   "metadata": {
    "collapsed": false
   }
  },
  {
   "cell_type": "markdown",
   "source": [
    "Bottle deposits\n",
    "In many jurisdictions a small deposit is added to drink containers to encourage people to recycle them. In one particular jurisdiction, drink containers holding one liter  or less have a \\\\$0.10 deposit, and drink containers holding more than one liter have a \\\\$0.25 deposit. write a program that reads the number of containers of each size from the user, your program should continue to by computing and displaying the refund that will be received for returning those containers. Format the output so that it include a dollar sign and two digits to the right of the decimal point."
   ],
   "metadata": {
    "collapsed": false
   }
  },
  {
   "cell_type": "code",
   "execution_count": 8,
   "outputs": [
    {
     "data": {
      "text/plain": "'the refund is $7.00'"
     },
     "execution_count": 8,
     "metadata": {},
     "output_type": "execute_result"
    }
   ],
   "source": [
    "less = 0.10\n",
    "more = 0.25\n",
    "one_l = int(input(\"Enter number of one liter container or less\"))\n",
    "greater_than_one_l = int(input(\"Enter number of container greater than one liter\"))\n",
    "\n",
    "refund = less * one_l + more * greater_than_one_l\n",
    "f\"the refund is ${refund:.2f}\"\n"
   ],
   "metadata": {
    "collapsed": false
   }
  },
  {
   "cell_type": "markdown",
   "source": [
    "The Program that you create for this exercise will begin by reading the cost of a meal, ordered at a restaurant form a user. Then your program will compute the tax and tip for the meal Use your local tax rate when computing the amount of tax owing. compute the tip as 18 percent of the meal amount(without the tax). The output from your program should include the tax amount, the tip amount, and the grand total for the meal including both the tax and the tip. Format the output do that all of the values are displayed using two decimal places."
   ],
   "metadata": {
    "collapsed": false
   }
  },
  {
   "cell_type": "code",
   "execution_count": 9,
   "outputs": [
    {
     "data": {
      "text/plain": "'grand total of the meal is 27.60'"
     },
     "execution_count": 9,
     "metadata": {},
     "output_type": "execute_result"
    }
   ],
   "source": [
    "tip = 0.18\n",
    "tax = 0.20\n",
    "cost_meal = float(input(\"How much did the meal cost?\"))\n",
    "grand_total  = (cost_meal * tip) + (cost_meal * tax ) + cost_meal\n",
    "f\"grand total of the meal is {grand_total:.2f}\""
   ],
   "metadata": {
    "collapsed": false
   }
  },
  {
   "cell_type": "markdown",
   "source": [
    "Write a program that reads a positive integer, n, from the user and then displays the sum of all the integers from 1 to n. The sum of the first n positive integers can be computed using the formula $$  sum = \\frac{(n)(n+1)}{2}\\ $$"
   ],
   "metadata": {
    "collapsed": false
   }
  },
  {
   "cell_type": "code",
   "execution_count": 13,
   "outputs": [
    {
     "data": {
      "text/plain": "'the sum of the first 4 positive integers is 10.0'"
     },
     "execution_count": 13,
     "metadata": {},
     "output_type": "execute_result"
    }
   ],
   "source": [
    "positive_integer = int(input(\"what is the positive integer \"))\n",
    "sum_p = positive_integer * (positive_integer + 1)/2\n",
    "f\"the sum of the first {positive_integer} positive integers is {sum_p}\""
   ],
   "metadata": {
    "collapsed": false
   }
  },
  {
   "cell_type": "markdown",
   "source": [
    "Widgets and Gizmos\n",
    "An online retailer sells two product: widget and gizmos Each widget weighs 75 grams. Each gizmo weighs 112 grams. write a program that reads the number of widgets and the number of gizmos from the user. Then your program should compute and display the total weight of the parts."
   ],
   "metadata": {
    "collapsed": false
   }
  },
  {
   "cell_type": "code",
   "execution_count": 14,
   "outputs": [
    {
     "data": {
      "text/plain": "'The total weight of the parts is 935grams'"
     },
     "execution_count": 14,
     "metadata": {},
     "output_type": "execute_result"
    }
   ],
   "source": [
    "widget = 75\n",
    "gizmo = 112\n",
    "n_widget = int(input(\"Enter the number of widget\"))\n",
    "n_gizmo = int(input(\"Enter the number of gizmo\"))\n",
    "\n",
    "total_weight = (n_gizmo * gizmo) + (n_widget * widget)\n",
    "f\"The total weight of the parts is {total_weight}grams\""
   ],
   "metadata": {
    "collapsed": false
   }
  },
  {
   "cell_type": "markdown",
   "source": [
    "Pretend that you have just opened a new saving account that earns 4 percent interest per year. The interest that you earn is paid at the end of the year, and is decided and is added to the balance of the saving account. write a program that begins by reading the amount of money deposited into the account from the user. Then your program, shuould compute and display the amount in the saving account after 1, 2 and 3 years. Display each amount so that it is rounded to 2 decimal places."
   ],
   "metadata": {
    "collapsed": false
   }
  },
  {
   "cell_type": "code",
   "execution_count": 16,
   "outputs": [
    {
     "name": "stdout",
     "output_type": "stream",
     "text": [
      "Compound interest is 624.3200000000006\n"
     ]
    }
   ],
   "source": [
    "# i wrote a function to solve this problem\n",
    "def compound_interest(principal, rate, time):\n",
    "    Amount = principal * (pow((1 + rate/100), time))\n",
    "    CI = Amount - principal\n",
    "    print(\"Compound interest is\", CI)\n",
    "\n",
    "principal = int(input(\"Enter the principal amount: \"))\n",
    "rate = int(input(\"Enter rate of interest: \"))\n",
    "time = int(input(\"Enter time in years: \" ))\n",
    "\n",
    "compound_interest(principal,rate, time)\n",
    "\n"
   ],
   "metadata": {
    "collapsed": false
   }
  },
  {
   "cell_type": "markdown",
   "source": [
    "Create a program that reads two integers, a and b, from the user. My Program should compute and display:\n",
    "- The sum of a and b\n",
    "- The difference when b is subtracted from a\n",
    "- The product of a and b\n",
    "- The quotient when a is divided by b\n",
    "- The remainder when a is divided by b\n",
    "- The result of $log_10^a$\n",
    "- The result of $a^b$\n"
   ],
   "metadata": {
    "collapsed": false
   }
  },
  {
   "cell_type": "code",
   "execution_count": 17,
   "outputs": [
    {
     "data": {
      "text/plain": "'the sum of 2 and 2 is 4, the difference when 2 is subtracted from 2 is 0, the product of 2 and 2 is 4, the quotient when 2 is divide by 2 is 1.0, the remainder when 2 is divided by 2 is 0, the result of $log_10^a$ is0.3010299956639812, the result of 2 to the power of 2 is 4 '"
     },
     "execution_count": 17,
     "metadata": {},
     "output_type": "execute_result"
    }
   ],
   "source": [
    "from math import log10\n",
    "a = int(input(\"Enter integer a\"))\n",
    "b = int(input(\"Enter integer b\"))\n",
    "\n",
    "f\"the sum of {a} and {b} is {a+b}, the difference when {b} is subtracted from {a} is {b-a}, the product of {a} and {b} is {a*b}, the quotient when {a} is divide by {b} is {a/b}, the remainder when {a} is divided by {b} is {a%b}, the result of $log_10^a$ is {log10(a)}, the result of {a} to the power of {b} is {a**b} \""
   ],
   "metadata": {
    "collapsed": false
   }
  },
  {
   "cell_type": "markdown",
   "source": [
    "In the United states, fuel efficiency for vehicles is normally expressed in miles-per-gallon (MPG). In Canada, fuel efficiency is normally expressed in liters per hundred kilometers(L/100km. Use your research skills to determine how to convert from MPG to L/100KM. Then create a program that reads a value from the user in American unit and displays the equivalent fuel efficiency in Canadian units."
   ],
   "metadata": {
    "collapsed": false
   }
  },
  {
   "cell_type": "code",
   "execution_count": 2,
   "outputs": [
    {
     "data": {
      "text/plain": "'The canadian equivalent in fuel efficiency to USA 24.0 is 9.8 '"
     },
     "execution_count": 2,
     "metadata": {},
     "output_type": "execute_result"
    }
   ],
   "source": [
    "mpg = float(input(\"Enter the MPG of car here:\"))\n",
    "l_km_mpg = 235.21/mpg\n",
    "f\"The canadian equivalent in fuel efficiency to USA {mpg} is {l_km_mpg:.1f} \""
   ],
   "metadata": {
    "collapsed": false
   }
  },
  {
   "cell_type": "code",
   "execution_count": 3,
   "outputs": [
    {
     "data": {
      "text/plain": "'The distance between the two points following th =e surface of the earth 2464.4412855516507km'"
     },
     "execution_count": 3,
     "metadata": {},
     "output_type": "execute_result"
    }
   ],
   "source": [
    "#ex12\n",
    "from math import radians,acos,sin, cos\n",
    "\n",
    "la_pa = radians(float(input(\"Enter Latitude point a:\")))\n",
    "lo_pa = radians(float(input(\"Enter Longitude point a:\")))\n",
    "la_pb = radians(float(input(\"Enter Latitude point b:\")))\n",
    "lo_pb = radians(float(input(\"Enter Longitude point b:\")))\n",
    "\n",
    "d = 6371.01 * acos(sin(la_pa) *sin(la_pb) + cos(la_pa) * cos(la_pb) * cos(lo_pa -lo_pb))\n",
    "\n",
    "f\"The distance between the two points following the surface of the earth is {d}km\""
   ],
   "metadata": {
    "collapsed": false
   }
  },
  {
   "cell_type": "code",
   "execution_count": 4,
   "outputs": [
    {
     "name": "stdout",
     "output_type": "stream",
     "text": [
      "The change using the smallest amount of change is...\n",
      "0 toonies, 1 loonies, 0 quarters, 0 dimes, 0 nickels, 0 pennies\n"
     ]
    }
   ],
   "source": [
    "#13\n",
    "cents = int(input(\"Please enter a number of cents: \"))\n",
    "\n",
    "toonies = int(cents / 200) # A toonie is a Canadian name for a $2 coin\n",
    "cents -= toonies * 200\n",
    "\n",
    "loonies = int(cents / 100) # A toonie is a Canadian name for a $1 coin\n",
    "cents -= loonies * 100\n",
    "\n",
    "quarters = int(cents/25) # A quarter is 25 cents\n",
    "cents -= quarters * 25\n",
    "\n",
    "dimes = int(cents/10) # A dime is 10 cent\n",
    "cents -= dimes * 10\n",
    "\n",
    "nickels = int(cents/5) # A nickel is 5 cent\n",
    "\n",
    "pennies = cents\n",
    "\n",
    "print(\"The change using the smallest amount of change is...\")\n",
    "print(\"{} toonies, {} loonies, {} quarters, {} dimes, {} nickels, {} pennies\".format(toonies, loonies, quarters, dimes, nickels, pennies))\n"
   ],
   "metadata": {
    "collapsed": false
   }
  },
  {
   "cell_type": "code",
   "execution_count": 5,
   "outputs": [
    {
     "data": {
      "text/plain": "'the height in centimeters is 180.34centimeters'"
     },
     "execution_count": 5,
     "metadata": {},
     "output_type": "execute_result"
    }
   ],
   "source": [
    "#ex14\n",
    "feet = float(input(\"Enter in height in feet: \"))\n",
    "inches = float(input(\"Enter height in inches: \"))\n",
    "f_i = feet * 12\n",
    "i_c = (f_i +inches) *2.54\n",
    "\n",
    "f\"the height in centimeters is {i_c}centimeters\""
   ],
   "metadata": {
    "collapsed": false
   }
  },
  {
   "cell_type": "code",
   "execution_count": 6,
   "outputs": [
    {
     "data": {
      "text/plain": "'the distance in inches 72.0in, the distance in yard 2.0, the distance in miles 0.0011364miles'"
     },
     "execution_count": 6,
     "metadata": {},
     "output_type": "execute_result"
    }
   ],
   "source": [
    "feet = float(input(\"Enter measurement in feet: \"))\n",
    "f_i = feet * 12\n",
    "yard = feet /3\n",
    "miles = feet * 0.0001894\n",
    "\n",
    "f\"the distance in inches {f_i}in, the distance in yard {yard}, the distance in miles {miles}miles\"\n"
   ],
   "metadata": {
    "collapsed": false
   }
  },
  {
   "cell_type": "code",
   "execution_count": 8,
   "outputs": [
    {
     "data": {
      "text/plain": "'the area is 113.1 and the volume is 904.8'"
     },
     "execution_count": 8,
     "metadata": {},
     "output_type": "execute_result"
    }
   ],
   "source": [
    "#16\n",
    "from math import pi\n",
    "r = float(input(\"Enter the radius of the circle:\"))\n",
    "area = pi*(r**2)\n",
    "volume = 4/3 * pi * r**3\n",
    "\n",
    "f'the area is {area:.1f} and the volume is {volume:.1f}'"
   ],
   "metadata": {
    "collapsed": false
   }
  },
  {
   "cell_type": "code",
   "execution_count": 10,
   "outputs": [
    {
     "data": {
      "text/plain": "'The total cost of this is $0.010348805011999999'"
     },
     "execution_count": 10,
     "metadata": {},
     "output_type": "execute_result"
    }
   ],
   "source": [
    "#17 Heat capacity\n",
    "water = float(input(\"Enter mass of water:\"))\n",
    "temperature  = float(input(\"Enter temperature change:\"))\n",
    "q = water * temperature * 4.186\n",
    "f\"The total amount of energy used in joules is {q}joules\"\n",
    "\n",
    "costPerKiloWattHour = 8.9 # Taken from the question\n",
    "kiloWattHours = q * 2.7778e-7 # Converts from Joules to kilowatt-hours\n",
    "\n",
    "cost = kiloWattHours * costPerKiloWattHour\n",
    "\n",
    "f\"The total cost of this is ${cost}\"\n",
    "\n"
   ],
   "metadata": {
    "collapsed": false
   }
  },
  {
   "cell_type": "code",
   "execution_count": 11,
   "outputs": [
    {
     "data": {
      "text/plain": "' the volume of the cylinder is 628.3'"
     },
     "execution_count": 11,
     "metadata": {},
     "output_type": "execute_result"
    }
   ],
   "source": [
    "#18\n",
    "r = float(input(\"Enter the radius of the cylinder:\"))\n",
    "h = float(input(\"Enter the height cylinder:\"))\n",
    "volume_c = pi * r**2 * h\n",
    "f' the volume of the cylinder is {volume_c:.1f}'\n",
    "\n",
    "\n",
    "\n"
   ],
   "metadata": {
    "collapsed": false
   }
  },
  {
   "cell_type": "code",
   "execution_count": 13,
   "outputs": [
    {
     "data": {
      "text/plain": "'the final velocity of when the object hits the ground 31.30$m/s^2$'"
     },
     "execution_count": 13,
     "metadata": {},
     "output_type": "execute_result"
    }
   ],
   "source": [
    "#19\n",
    "from math import sqrt\n",
    "user= float(input(\"Enter the height from which the object is dropped:\"))\n",
    "v_i =0\n",
    "a = 9.8\n",
    "v_f = sqrt( 2*a*user)\n",
    "\n",
    "f\"the final velocity of when the object hits the ground {v_f:.2f}m/s^2\"\n"
   ],
   "metadata": {
    "collapsed": false
   }
  },
  {
   "cell_type": "code",
   "execution_count": 15,
   "outputs": [
    {
     "data": {
      "text/plain": "'the amount of gas moles is 98522.0865992721'"
     },
     "execution_count": 15,
     "metadata": {},
     "output_type": "execute_result"
    }
   ],
   "source": [
    "#20\n",
    "\n",
    "P = float(input(\"Please enter a pressure in Pascals: \"))\n",
    "V = float(input(\"Please enter a volume in liters: \"))\n",
    "T = float(input(\"Please enter a temperature in Celsius: \")) + 273.15\n",
    "\n",
    "\n",
    "R = 8.314\n",
    "\n",
    "n = (P*V)/(R*T)\n",
    "\n",
    "f\"the amount of gas moles is {n}\""
   ],
   "metadata": {
    "collapsed": false
   }
  },
  {
   "cell_type": "code",
   "execution_count": 16,
   "outputs": [
    {
     "data": {
      "text/plain": "'The area of the triangle is 12.5'"
     },
     "execution_count": 16,
     "metadata": {},
     "output_type": "execute_result"
    }
   ],
   "source": [
    "#21\n",
    "base = int(input(\"Enter the value of the base:\"))\n",
    "height = int(input(\"Enter the value of the height:\"))\n",
    "\n",
    "area = (base*height)/2\n",
    "f\"The area of the triangle is {area}\"\n"
   ],
   "metadata": {
    "collapsed": false
   }
  },
  {
   "cell_type": "code",
   "execution_count": 18,
   "outputs": [
    {
     "data": {
      "text/plain": "'The area of the triangle is 10.825317547305483'"
     },
     "execution_count": 18,
     "metadata": {},
     "output_type": "execute_result"
    }
   ],
   "source": [
    "s1 = int(input(\"Enter the length of side1:\"))\n",
    "s2 = int(input(\"Enter the length of side2:\"))\n",
    "s3 = int(input(\"Enter the length of side3:\"))\n",
    "\n",
    "s = (s1+s2+s3)/2\n",
    "area = sqrt(s*(s-s1)*(s-s2)*(s-s3))\n",
    "\n",
    "f\"The area of the triangle is {area}\""
   ],
   "metadata": {
    "collapsed": false
   }
  },
  {
   "cell_type": "code",
   "execution_count": 19,
   "outputs": [
    {
     "data": {
      "text/plain": "'The area of a regular polygon is 22.704454000167527'"
     },
     "execution_count": 19,
     "metadata": {},
     "output_type": "execute_result"
    }
   ],
   "source": [
    "#23\n",
    "from math import tan\n",
    "s = int(input(\"Enter the length of side:\"))\n",
    "n = int(input(\"Enter the number of sides:\"))\n",
    "area = (n*(s**2))/4 * (tan(pi/n))\n",
    "f\"The area of a regular polygon is {area}\"\n",
    "\n",
    "\n"
   ],
   "metadata": {
    "collapsed": false
   }
  },
  {
   "cell_type": "code",
   "execution_count": 21,
   "outputs": [
    {
     "data": {
      "text/plain": "'Total duration in seconds is 452450'"
     },
     "execution_count": 21,
     "metadata": {},
     "output_type": "execute_result"
    }
   ],
   "source": [
    "#24\n",
    "\n",
    "\n",
    "m =  60\n",
    "h = m * 60\n",
    "d = h * 24\n",
    "\n",
    "days = float(input('Enter the number of days: '))\n",
    "hour = float(input('Enter the number of hours: '))\n",
    "minutes = float(input('Enter the number of minutes: '))\n",
    "seconds = float(input('Enter the number of seconds: '))\n",
    "\n",
    "total = int(d * days + h * hour + m * minutes + seconds)\n",
    "\n",
    "\n",
    "\n",
    "f\"Total duration in seconds is {total}\""
   ],
   "metadata": {
    "collapsed": false
   }
  },
  {
   "cell_type": "code",
   "execution_count": 22,
   "outputs": [
    {
     "name": "stdout",
     "output_type": "stream",
     "text": [
      "The equivalent duration is, 0:03:20:1200\n"
     ]
    }
   ],
   "source": [
    "#25\n",
    "\n",
    "\n",
    "\n",
    "seconds_per_day = 86400\n",
    "seconds_per_hour = 3600\n",
    "seconds_per_minute = 60\n",
    "\n",
    "input_seconds = int(input('How many seconds are there: '))\n",
    "\n",
    "days = input_seconds // seconds_per_day\n",
    "input_seconds %= seconds_per_day\n",
    "\n",
    "hours = input_seconds // seconds_per_hour\n",
    "input_seconds %= seconds_per_hour\n",
    "\n",
    "minutes = input_seconds // seconds_per_minute\n",
    "input_seconds % seconds_per_minute\n",
    "print('The equivalent duration is, {:d}:{:02d}:{:02d}:{:02d}'. format(days,hours,minutes,input_seconds) )"
   ],
   "metadata": {
    "collapsed": false
   }
  },
  {
   "cell_type": "code",
   "execution_count": 23,
   "outputs": [
    {
     "data": {
      "text/plain": "'The time is Wed Oct  4 15:07:55 2023'"
     },
     "execution_count": 23,
     "metadata": {},
     "output_type": "execute_result"
    }
   ],
   "source": [
    "#26\n",
    "from time import asctime\n",
    "\n",
    "f\"The time is {asctime()}\"\n"
   ],
   "metadata": {
    "collapsed": false
   }
  },
  {
   "cell_type": "code",
   "execution_count": 26,
   "outputs": [
    {
     "data": {
      "text/plain": "'The BMI is 0.5555555555555556'"
     },
     "execution_count": 26,
     "metadata": {},
     "output_type": "execute_result"
    }
   ],
   "source": [
    "# 28\n",
    "\n",
    "height = float(input(\"Enter your height in meters: \"))\n",
    "weight = float(input(\"Enter your weight in kg: \"))\n",
    "BMI = weight / (height*weight)\n",
    "\n",
    "f\"The BMI is {BMI}\"\n"
   ],
   "metadata": {
    "collapsed": false
   }
  },
  {
   "cell_type": "code",
   "execution_count": 28,
   "outputs": [
    {
     "data": {
      "text/plain": "' The wind chill index is 7.172264622880381'"
     },
     "execution_count": 28,
     "metadata": {},
     "output_type": "execute_result"
    }
   ],
   "source": [
    "#29\n",
    "a_t = float(input(\"Enter air temperature: \"))\n",
    "w_s= float(input(\"Enter wind speed: \"))\n",
    "wci = 13.12 + (0.6215 * a_t)  - 11.37* (w_s**0.16) + 0.3965*(a_t*(w_s**0.16))\n",
    "f\" The wind chill index is {wci}\"\n",
    "\n",
    "\n"
   ],
   "metadata": {
    "collapsed": false
   }
  },
  {
   "cell_type": "code",
   "execution_count": 29,
   "outputs": [
    {
     "data": {
      "text/plain": "'The temperature in fahrenheit is 86.0 and the temp in kelvin is 303.15'"
     },
     "execution_count": 29,
     "metadata": {},
     "output_type": "execute_result"
    }
   ],
   "source": [
    "#30\n",
    "tem = int(input(\"Enter the temperature in degree  celsius: \"))\n",
    "tem_d = (tem * 9/5) + 32\n",
    "tem_kelvin = tem + 273.15\n",
    "f\"The temperature in fahrenheit is {tem_d} and the temp in kelvin is {tem_kelvin}\"\n"
   ],
   "metadata": {
    "collapsed": false
   }
  },
  {
   "cell_type": "code",
   "execution_count": 30,
   "outputs": [
    {
     "data": {
      "text/plain": "'The pressure in pounds per square inch is 5.801509509208369, pressure in millimeters of mercury is 300.02479999999997 and the pressure in atmosphere is 0.39486673247778875'"
     },
     "execution_count": 30,
     "metadata": {},
     "output_type": "execute_result"
    }
   ],
   "source": [
    "#Units of pressure\n",
    "pressure_kpa = float(input(\"Enter the pressure in kilo pascal:\"))\n",
    "p_psi = pressure_kpa * 0.14503773773020923\n",
    "p_mill= pressure_kpa * 7.50062\n",
    "p_a= pressure_kpa / 101.3\n",
    "\n",
    "f\"The pressure in pounds per square inch is {p_psi}, pressure in millimeters of mercury is {p_mill} and the pressure in atmosphere is {p_a}\"\n",
    "\n",
    "\n"
   ],
   "metadata": {
    "collapsed": false
   }
  },
  {
   "cell_type": "code",
   "execution_count": 35,
   "outputs": [
    {
     "data": {
      "text/plain": "'The sum of the four digits is 9'"
     },
     "execution_count": 35,
     "metadata": {},
     "output_type": "execute_result"
    }
   ],
   "source": [
    "#32\n",
    "digits = input(\"Enter four digits:\")\n",
    "\n",
    "sum = int(digits[0])\n",
    "sum += int(digits[1])\n",
    "sum += int(digits[2])\n",
    "sum += int(digits[3])\n",
    "f\"The sum of the four digits is {sum}\"\n"
   ],
   "metadata": {
    "collapsed": false
   }
  },
  {
   "cell_type": "code",
   "execution_count": 36,
   "outputs": [
    {
     "data": {
      "text/plain": "'The value of the smallest number is 3 the value of the middle number is 5, the value of the largest number is 9'"
     },
     "execution_count": 36,
     "metadata": {},
     "output_type": "execute_result"
    }
   ],
   "source": [
    "#33\n",
    "FirstNumber = int(input(\"Please enter the first number: \"))\n",
    "Secondnumber = int(input(\"Please enter the second number: \"))\n",
    "Thirdnumber = int(input(\"Please enter the third number: \"))\n",
    "\n",
    "smallest = min(FirstNumber,Secondnumber,Thirdnumber)\n",
    "largest = max(FirstNumber,Secondnumber,Thirdnumber)\n",
    "middle = (FirstNumber+Secondnumber+Thirdnumber) - smallest - largest\n",
    "\n",
    "f\"The value of the smallest number is {smallest} the value of the middle number is {middle}, the value of the largest number is {largest}\"\n"
   ],
   "metadata": {
    "collapsed": false
   }
  },
  {
   "cell_type": "code",
   "execution_count": 38,
   "outputs": [
    {
     "data": {
      "text/plain": "'The price regular price of bread is £17.450000000000003 and the discount for a day old bread is 2.09, the total price is 15.36 '"
     },
     "execution_count": 38,
     "metadata": {},
     "output_type": "execute_result"
    }
   ],
   "source": [
    "#34\n",
    "number_dob = int(input(\"The number of day old bread purchased: \"))\n",
    "bread=3.49\n",
    "discount_rate = 0.60\n",
    "f\"The price regular price of bread is £{bread*number_dob} and the discount for a day old bread is {bread*discount_rate:.2f}, the total price is {(number_dob*bread)-(bread*discount_rate):.2f} \""
   ],
   "metadata": {
    "collapsed": false
   }
  },
  {
   "cell_type": "code",
   "execution_count": 39,
   "outputs": [
    {
     "name": "stdout",
     "output_type": "stream",
     "text": [
      "This number is even.\n"
     ]
    }
   ],
   "source": [
    "number = int(input(\"Please enter an integer: \"))\n",
    "\n",
    "if number % 2 == 0:\n",
    "\tprint(\"This number is even.\")\n",
    "else:\n",
    "\tprint(\"The number is odd\")"
   ],
   "metadata": {
    "collapsed": false
   }
  },
  {
   "cell_type": "code",
   "execution_count": null,
   "outputs": [],
   "source": [],
   "metadata": {
    "collapsed": false
   }
  }
 ],
 "metadata": {
  "kernelspec": {
   "display_name": "Python 3",
   "language": "python",
   "name": "python3"
  },
  "language_info": {
   "codemirror_mode": {
    "name": "ipython",
    "version": 2
   },
   "file_extension": ".py",
   "mimetype": "text/x-python",
   "name": "python",
   "nbconvert_exporter": "python",
   "pygments_lexer": "ipython2",
   "version": "2.7.6"
  }
 },
 "nbformat": 4,
 "nbformat_minor": 0
}
