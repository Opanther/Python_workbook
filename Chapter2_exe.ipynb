{
 "cells": [
  {
   "cell_type": "code",
   "execution_count": null,
   "outputs": [],
   "source": [
    "number = int(input(\"Please enter an integer: \"))\n",
    "\n",
    "if number % 2 == 0:\n",
    "\tprint(\"This number is even.\")\n",
    "else:\n",
    "\tprint(\"The number is odd\")"
   ],
   "metadata": {
    "collapsed": false
   }
  },
  {
   "cell_type": "code",
   "execution_count": null,
   "outputs": [],
   "source": [
    "#36\n",
    "humanYearsOld = int(input(\"Please enter the age of a dog in human years: \"))\n",
    "\n",
    "\n",
    "if humanYearsOld <= 2:\n",
    "\tdogYears = humanYearsOld * 10.5\n",
    "elif humanYearsOld > 2:\n",
    "\tdogYears = 2 * 10.5\n",
    "\tdogYears += (humanYearsOld-2) * 4\n",
    "\n",
    "if humanYearsOld == 0:\n",
    "\tprint(\"Please enter a positive integer.\")\n",
    "else:\n",
    "\tprint(f\"The dog is {dogYears} years old in dog years.\")"
   ],
   "metadata": {
    "collapsed": false
   }
  },
  {
   "cell_type": "code",
   "execution_count": null,
   "outputs": [],
   "source": [
    "#37\n",
    "\n",
    "letter_alphabet = str(input(\"Enter letter: \"))\n",
    "\n",
    "if letter_alphabet == \"a\" or letter_alphabet== 'e'or  letter_alphabet == \"i\" or letter_alphabet== 'o'or letter_alphabet == 'u':\n",
    "    print(\"the letter is a vowel\")\n",
    "elif letter_alphabet ==\"y\":\n",
    "    print(\"y is sometimes a consonant and sometimes a vowel\")\n",
    "else:\n",
    "    print(\"the letter is a consonant\")\n"
   ],
   "metadata": {
    "collapsed": false
   }
  },
  {
   "cell_type": "code",
   "execution_count": null,
   "outputs": [],
   "source": [
    "#38\n",
    "n_s = int(input(\"Enter the number of sides of the shape:\"))\n",
    "if n_s ==3:\n",
    "\tprint(\"Shape is Triangle\")\n",
    "elif n_s ==4:\n",
    "\tprint(\"Shape is Square\")\n",
    "elif n_s ==5:\n",
    "\tprint(\"Shape is Pentagon\")\n",
    "elif n_s ==6:\n",
    "\tprint(\"Shape is Hexagon\")\n",
    "elif n_s ==7:\n",
    "\tprint(\"Shape is Heptagon\")\n",
    "elif n_s ==8:\n",
    "\tprint(\"Shape is Octagon\")\n",
    "elif n_s ==9:\n",
    "\tprint(\"Shape is Nonagon\")\n",
    "elif n_s ==10:\n",
    "\tprint(\"Shape is Decagon\")\n",
    "else:\n",
    "\tprint(\"Error, this program doesn't support this shape\")"
   ],
   "metadata": {
    "collapsed": false
   }
  },
  {
   "cell_type": "code",
   "execution_count": null,
   "outputs": [],
   "source": [
    "#39\n",
    "month = str(input(\"Enter month:\"))\n",
    "if month.lower() == \"january\":\n",
    "\tprint(f\"{month} has 31 days\")\n",
    "elif month.lower() == 'february':\n",
    "\tprint(f\"{month} has 28 or 29 days\")\n",
    "elif month.lower() == 'march':\n",
    "\tprint(f\"{month} has 31 days\")\n",
    "elif month.lower() == 'april':\n",
    "\tprint(f\"{month} has 30 days\")\n",
    "elif month.lower() == 'may':\n",
    "\tprint(f\"{month} has 31 days\")\n",
    "elif month.lower() == 'june':\n",
    "\tprint(f\"{month} has 30 days\")\n",
    "elif month.lower() == 'july':\n",
    "\tprint(f\"{month} has 31 days\")\n",
    "elif month.lower() == 'august':\n",
    "\tprint(f\"{month} has 31 days\")\n",
    "elif month.lower() == 'september':\n",
    "\tprint(f\"{month} has 30 days\")\n",
    "elif month.lower() == 'october':\n",
    "\tprint(f\"{month} has 31 days\")\n",
    "elif month.lower() == 'November':\n",
    "\tprint(f\"{month} has 30 days\")\n",
    "elif month.lower() == 'December':\n",
    "\tprint(f\"{month} has 31 days\")\n"
   ],
   "metadata": {
    "collapsed": false
   }
  },
  {
   "cell_type": "code",
   "execution_count": null,
   "outputs": [],
   "source": [
    "sound_level = int(input(\"Enter the sound level in decibels:\"))\n",
    "if sound_level==130:\n",
    "    print(\"Thats a jackHammer sound\")\n",
    "elif sound_level>130:\n",
    "    print(\" That is higher than highest available noise\")\n",
    "elif sound_level>106 :\n",
    "    print(\"This noise is between Gas lawnmower and JackHammer\")\n",
    "elif sound_level==106:\n",
    "    print(\"Thats a gas lawnmower sound\")\n",
    "elif sound_level>70 :\n",
    "    print(\"This noise is between Gas lawnmower and Alarm clock\")\n",
    "elif sound_level==70:\n",
    "    print(\"Thats an alarm clock\")\n",
    "elif sound_level>40 :\n",
    "    print(\"This noise is between alarm clock and Queit\")\n",
    "elif sound_level==40:\n",
    "    print(\"That looks like a quiet room\")\n",
    "elif sound_level<40:\n",
    "    print(\"This value is smaller than the quietest noise in the table\")"
   ],
   "metadata": {
    "collapsed": false
   }
  },
  {
   "cell_type": "code",
   "execution_count": null,
   "outputs": [],
   "source": [
    "#41\n",
    "side_1 = int(input(\"what is the length of side 1 \"))\n",
    "side_2 = int(input(\"what is the length of side 2 \"))\n",
    "side_3 = int(input(\"what is the length of side 3 \"))\n",
    "\n",
    "if side_1 == side_2 and side_3:\n",
    "\tprint(\"The Triangle is an equilateral \")\n",
    "elif side_1 == side_3 or side_1 == side_2:\n",
    "\tprint(\"This triangle is an isosceles triangle\")\n",
    "else:\n",
    "\tprint(\"This triangle is a scalene\")"
   ],
   "metadata": {
    "collapsed": false
   }
  },
  {
   "cell_type": "code",
   "execution_count": null,
   "outputs": [],
   "source": [
    "#42\n",
    "c4 = 261.63\n",
    "d4 = 293.66\n",
    "e4 = 329.63\n",
    "f4 = 349.23\n",
    "g4 = 392.00\n",
    "a4 = 440.00\n",
    "b4 = 493.88\n",
    "user_n = input(\"Enter the name of the note, such as c4:\")\n",
    "note = user_n[0]\n",
    "octave = int(user_n[1])\n",
    "\n",
    "if note == 'c':\n",
    "\tfreq = c4\n",
    "elif note =='d':\n",
    "\tfreq = d4\n",
    "elif note =='e':\n",
    "\tfreq = e4\n",
    "elif note =='f':\n",
    "\tfreq = f4\n",
    "elif note =='g':\n",
    "\tfreq = g4\n",
    "elif note =='a':\n",
    "\tfreq = a4\n",
    "elif note =='b':\n",
    "\tfreq = b4\n",
    "\n",
    "freq = freq / 2**(4 - octave)\n",
    "\n",
    "print(\"The frequency of\", user_n, \"is\", freq)\n"
   ],
   "metadata": {
    "collapsed": false
   }
  },
  {
   "cell_type": "code",
   "execution_count": null,
   "outputs": [],
   "source": [
    "#43\n",
    "c4 = 261.63\n",
    "d4 = 293.66\n",
    "e4 = 329.63\n",
    "f4 = 349.23\n",
    "g4 = 392.00\n",
    "a4 = 440.00\n",
    "b4 = 493.88\n",
    "limit = 1\n",
    "user_f = float(input(\"Enter the frequency:\"))\n",
    "if c4 - limit <= user_f <= c4 + limit:\n",
    "\tnote = \"c4\"\n",
    "elif user_f >= d4 - limit and user_f <= d4 + limit:\n",
    "\tnote = \"d4\"\n",
    "elif user_f >= e4 - limit and user_f <= e4 + limit:\n",
    "\tnote = \"e4\"\n",
    "elif user_f >= f4 - limit and user_f <= f4 + limit:\n",
    "\tnote = \"f4\"\n",
    "elif user_f >= g4 - limit and user_f <= g4 + limit:\n",
    "\tnote = \"g4\"\n",
    "elif user_f >= a4 - limit and user_f <= a4 + limit:\n",
    "\tnote = \"a4\"\n",
    "elif user_f >= b4 - limit and user_f <= b4 + limit:\n",
    "\tnote = \"b4\"\n",
    "else:\n",
    "\tnote = \"\"\n",
    "\n",
    "if note == \"\":\n",
    "\tprint(\"There is no note that corresponds to that frequency.\")\n",
    "else:\n",
    "\tprint(\"That frequency is\", note)\n",
    "\n",
    "\n"
   ],
   "metadata": {
    "collapsed": false
   }
  },
  {
   "cell_type": "code",
   "execution_count": null,
   "outputs": [],
   "source": [
    "#44\n",
    "George_Washington = 1\n",
    "Thomas_Jefferson = 2\n",
    "Abraham_Lincoln = 5\n",
    "Alexander_Hamilton = 10\n",
    "Andrew_jackson = 20\n",
    "Ulysses_S_Grant = 50\n",
    "Benjamin_Franklin = 100\n",
    "bank_d = int(input(\"Enter the denomination of the banknote:\"))\n",
    "if  bank_d == 1:\n",
    "\tprint(\"George Washington\")\n",
    "elif bank_d == 2:\n",
    "\tprint(\"Thomas Jefferson\")\n",
    "elif bank_d == 5:\n",
    "\tprint(\"Abraham Lincoln\")\n",
    "elif bank_d == 10:\n",
    "\tprint(\"Alexander Hamilton\")\n",
    "elif bank_d == 20:\n",
    "\tprint(\"Andrew Jackson\")\n",
    "elif bank_d == 50:\n",
    "\tprint(\"Ulysses S.Grant\")\n",
    "elif bank_d == 100:\n",
    "\tprint(\"Benjamin Franklin\")\n",
    "else:\n",
    "\tbank_d = \"\"\n",
    "\n",
    "if bank_d == \"\":\n",
    "\tprint(\"No such note exists\")\n",
    "else:\n",
    "\tprint(f\"the currency is ${bank_d}\")"
   ],
   "metadata": {
    "collapsed": false
   }
  },
  {
   "cell_type": "code",
   "execution_count": null,
   "outputs": [],
   "source": [
    "#45\n",
    "\n",
    "\n",
    "month = (input(\"what month is it:\"))\n",
    "day = int(input(\"what day is it:\"))\n",
    "if month.lower() == \"january\" and day == 1:\n",
    "\t print(\"New year's Day\")\n",
    "elif month.lower() == \"july\" and day == 1:\n",
    "\tprint(\"Canada Day\")\n",
    "elif  month.lower() == \"December\" and day == 25:\n",
    "\tprint(\"Christmas\")\n",
    "else:\n",
    "\tprint(\"The entered month and day do not correspond to a fixed-date holiday\")\n",
    "\n"
   ],
   "metadata": {
    "collapsed": false
   }
  },
  {
   "cell_type": "code",
   "execution_count": null,
   "outputs": [],
   "source": [
    "#46\n",
    "\n",
    "chess_position = input(\"What is the position:\")\n",
    "column = chess_position[0].lower()\n",
    "row = int(chess_position[1])\n",
    "\n",
    "\n",
    "if column in \"aceg\":\n",
    "\tcolStartsWithBlack = True\n",
    "else:\n",
    "\tcolStartsWithBlack = False\n",
    "\n",
    "\n",
    "if colStartsWithBlack:\n",
    "\tif row % 2 == 0:\n",
    "\t\twhite = True\n",
    "\telse:\n",
    "\t\twhite = False\n",
    "else:\n",
    "\tif row % 2 == 0:\n",
    "\t\twhite = False\n",
    "\telse:\n",
    "\t\twhite = True\n",
    "\n",
    "if white:\n",
    "\tprint(\"That position is coloured white.\")\n",
    "else:\n",
    "\tprint(\"That position is coloured black.\")\n"
   ],
   "metadata": {
    "collapsed": false
   }
  },
  {
   "cell_type": "code",
   "execution_count": null,
   "outputs": [],
   "source": [
    "#47\n",
    "\n",
    "mon_day = input(\"What is the month and day:\").split(',')\n",
    "month = mon_day[0].lower()\n",
    "day = int(mon_day[1])\n",
    "\n",
    "if month == \"january\" or month == \"february\":\n",
    "\tseason = \"Winter\"\n",
    "elif month == \"March\":\n",
    "\tif day <20:\n",
    "\t\tseason = \"Winter\"\n",
    "\telse:\n",
    "\t\tseason = \"Spring\"\n",
    "elif month == \"april\" or month == \"may\":\n",
    "\tseason = \"Spring\"\n",
    "elif month == \"june\":\n",
    "\tif day < 21:\n",
    "\t\tseason = \"Spring\"\n",
    "\telse:\n",
    "\t\tseason = \"Summer\"\n",
    "elif month == \"july\" or month ==\"august\":\n",
    "\tseason=\"Summer\"\n",
    "elif month == \"september\":\n",
    "\tif day < 22:\n",
    "\t\tseason =\"Summer\"\n",
    "\telse:\n",
    "\t\tseason = \"fall\"\n",
    "elif month == \"october\" or month ==\"november\":\n",
    "\tseason=\"fall\"\n",
    "elif month == \"december\":\n",
    "\tif day < 21:\n",
    "\t\tseason =\"fall\"\n",
    "\telse:\n",
    "\t\tseason = \"winter\"\n",
    "\n",
    "\n",
    "print(month, day, \"is in\", season)\n",
    "\n"
   ],
   "metadata": {
    "collapsed": false
   }
  },
  {
   "cell_type": "code",
   "execution_count": 7,
   "outputs": [
    {
     "name": "stdout",
     "output_type": "stream",
     "text": [
      "february 21 has  Pisces\n"
     ]
    }
   ],
   "source": [
    "#48\n",
    "zn_day = input(\"What is the month and day of birth:\").split(',')\n",
    "month = zn_day[0].lower()\n",
    "day = int(zn_day[1])\n",
    "\n",
    "if (month == \"january\" and day >=20)   or (month == \"february\" and day <=18):\n",
    "\tzodiac_sign = \"Aquarius\"\n",
    "elif (month == \"february\" and day >=19)   or (month == \"march\" and day <=20):\n",
    "\tzodiac_sign = \"Pisces\"\n",
    "elif (\"march\" and day >=21) or (month == \"april\" and day <=19):\n",
    "\tzodiac_sign = \"Aries\"\n",
    "elif (\"april\" and day >=20) or (month == \"may\" and day <=20):\n",
    "\tzodiac_sign=\"Taurus\"\n",
    "elif (\"may\" and day >=21) or (month == \"june\" and day <=20):\n",
    "\tzodiac_sign = \"Gemini\"\n",
    "elif (\"june\" and day >=21) or (month == \"july\" and day <=22):\n",
    "\tzodiac_sign=\"Cancer\"\n",
    "elif (\"july\" and day >=23) or (month == \"august\" and day <=22):\n",
    "\tzodiac_sign=\"Leo\"\n",
    "elif (\"august\" and day >=23) or (month == \"september\" and day <=22):\n",
    "\tzodiac_sign = \"Virgo\"\n",
    "elif (\"september\" and day >=23) or (month == \"october\" and day <=22):\n",
    "\tzodiac_sign = \"Libra\"\n",
    "elif (\"ocotber\" and day >=23)   or (month == \"november\" and day <=21):\n",
    "\tzodiac_sign = \"Scorpio\"\n",
    "elif (\"november\" and day >=22)   or (month == \"december\" and day <=21):\n",
    "\tzodiac_sign = \"Sagittarius\"\n",
    "elif (\"december\" and day >=22)   or (month == \"January\" and day <=19):\n",
    "\tzodiac_sign = \"Capricorn\"\n",
    "\n",
    "\n",
    "\n",
    "\n",
    "print(month, day, \"has zodiac sign\", zodiac_sign)\n",
    "\n",
    "\n"
   ],
   "metadata": {
    "collapsed": false
   }
  },
  {
   "cell_type": "code",
   "execution_count": 9,
   "outputs": [
    {
     "name": "stdout",
     "output_type": "stream",
     "text": [
      " The year 1994 has the chinese zodiac sign Dog \n"
     ]
    }
   ],
   "source": [
    "# 49\n",
    "#I struggled to find a pattern for this, use modulo for each year\n",
    "\n",
    "c_z = int(input(\"Enter the year:\"))\n",
    "\n",
    "if c_z % 12 == 8:\n",
    "\tanimal = \"Dragon\"\n",
    "elif c_z % 12 == 9:\n",
    "\tanimal = \"Snake\"\n",
    "elif c_z % 12 == 10:\n",
    "\tanimal = \"Horse\"\n",
    "elif c_z % 12 == 11:\n",
    "\tanimal = \"Sheep\"\n",
    "elif c_z % 12 == 0:\n",
    "\tanimal = \"Monkey\"\n",
    "elif c_z % 12 == 1:\n",
    "\tanimal = \"Rooster\"\n",
    "elif c_z % 12 == 2:\n",
    "\tanimal = \"Dog\"\n",
    "elif c_z % 12 == 3:\n",
    "\tanimal = \"Pig\"\n",
    "elif c_z % 12 == 4:\n",
    "\tanimal = \"Rat\"\n",
    "elif c_z % 12 == 5:\n",
    "\tanimal = \"Ox\"\n",
    "elif c_z % 12 == 6:\n",
    "\tanimal = \"Tiger\"\n",
    "elif c_z % 12 == 7:\n",
    "\tanimal = \"Hare\"\n",
    "\n",
    "\n",
    "print(f\" The year {c_z} has the chinese zodiac sign {animal} \")\n"
   ],
   "metadata": {
    "collapsed": false
   }
  },
  {
   "cell_type": "code",
   "execution_count": 10,
   "outputs": [
    {
     "name": "stdout",
     "output_type": "stream",
     "text": [
      "magnitude 8.5 earthqauke is considered to be a Great earthquake\n"
     ]
    }
   ],
   "source": [
    "#50\n",
    "magnitude = float(input(\"Enter magnitude:\"))\n",
    "\n",
    "if magnitude <2.0:\n",
    "\tdesc= \"Micro\"\n",
    "elif 2.0 <= magnitude <3.0:\n",
    "\tdesc = \"Very Minor\"\n",
    "elif 3.0 <= magnitude <4.0:\n",
    "\tdesc = \"Minor\"\n",
    "elif 4.0 <= magnitude < 5.0:\n",
    "\tdesc = \"Light\"\n",
    "elif 5.0 <= magnitude < 6.0:\n",
    "\tdesc = \"Moderate\"\n",
    "elif 6.0 <= magnitude < 7.0:\n",
    "\tdesc = \"Strong\"\n",
    "elif 7.0 <= magnitude < 8.0:\n",
    "\tdesc = \"Major\"\n",
    "elif 8.0 <= magnitude <10.0:\n",
    "\tdesc = \"Great\"\n",
    "else:\n",
    "\tdesc = \"Meteoric\"\n",
    "\n",
    "print(f\"magnitude {magnitude} earthqauke is considered to be a {desc} earthquake\")"
   ],
   "metadata": {
    "collapsed": false
   }
  },
  {
   "cell_type": "code",
   "execution_count": 15,
   "outputs": [
    {
     "name": "stdout",
     "output_type": "stream",
     "text": [
      "This program calculates the real roots of a quadratic equation(if any).\n",
      "Real root = 2.0, -10.0\n"
     ]
    }
   ],
   "source": [
    "#51\n",
    "print(\"This program calculates the real roots of a quadratic equation(if any).\")\n",
    "a = float(input(\"value of a:\"))\n",
    "b = float(input(\"value of b:\"))\n",
    "c = float(input(\"value of c:\"))\n",
    "discriminant = (b**2) - (4*a*c)\n",
    "if discriminant < 0 :\n",
    "\tprint( \"The equation does not have any real roots\")\n",
    "elif discriminant == 0:\n",
    "\tprint( \" The equation has one real root\")\n",
    "\troot  = -b /2*a\n",
    "\tprint(f\"real root = {root}\")\n",
    "elif discriminant > 0:\n",
    "\tprint(\"The equation has two real roots\")\n",
    "\troot1 = -b + discriminant /2*a\n",
    "\troot2 = -b - discriminant /2*a\n",
    "\n",
    "\tprint(f\"Real root = {root1}, {root2}\")\n",
    "\n",
    "\n"
   ],
   "metadata": {
    "collapsed": false
   }
  },
  {
   "cell_type": "code",
   "execution_count": 18,
   "outputs": [
    {
     "name": "stdout",
     "output_type": "stream",
     "text": [
      "the number of 4.0\n"
     ]
    }
   ],
   "source": [
    "#52\n",
    "grade = input(\"Enter grade:\")\n",
    "\n",
    "if grade == \"A+\" or grade == \"A\":\n",
    "\tgrade_point = 4.0\n",
    "elif grade == \"A-\":\n",
    "\tgrade_point = 3.7\n",
    "elif grade == \"B+\":\n",
    "\tgrade_point = 3.3\n",
    "elif grade == \"B\":\n",
    "\tgrade_point = 3.0\n",
    "elif grade == \"B-\":\n",
    "\tgrade_point = 2.7\n",
    "elif grade == \"C+\":\n",
    "\tgrade_point = 2.3\n",
    "elif grade == \"C\":\n",
    "\tgrade_point = 2.0\n",
    "elif grade == \"C-\":\n",
    "\tgrade_point = 1.7\n",
    "elif grade == \"D+\":\n",
    "\tgrade_point = 1.3\n",
    "elif grade == \"D\":\n",
    "\tgrade_point = 1.0\n",
    "elif grade == \"F\":\n",
    "\tgrade_point = 0\n",
    "else:\n",
    "\tgrade_point = \"\"\n",
    "\n",
    "if grade_point == \"\":\n",
    "\tprint(\"Invalid letter grade\")\n",
    "else:\n",
    "\tprint(f\"the number of {grade_point}\")\n"
   ],
   "metadata": {
    "collapsed": false
   }
  },
  {
   "cell_type": "code",
   "execution_count": 24,
   "outputs": [
    {
     "name": "stdout",
     "output_type": "stream",
     "text": [
      "The grade point 2.0 letter grade is C \n"
     ]
    }
   ],
   "source": [
    "#53\n",
    "\n",
    "grade_p = float(input(\"Enter the grade point:\"))\n",
    "if grade_p >= 4.0:\n",
    "    letter = \"A+\"\n",
    "elif grade_p >= 3.7:\n",
    "    letter = \"A-\"\n",
    "elif grade_p >= 3.3:\n",
    "    letter = \"B+\"\n",
    "elif grade_p >= 3.0:\n",
    "    letter = \"B\"\n",
    "elif grade_p >= 2.7:\n",
    "    letter = \"B-\"\n",
    "elif grade_p >= 2.3:\n",
    "    letter = \"C+\"\n",
    "elif grade_p >= 2.0:\n",
    "    letter = \"C\"\n",
    "elif grade_p >= 1.7:\n",
    "    letter = \"C-\"\n",
    "elif grade_p >= 1.3:\n",
    "    letter = \"D+\"\n",
    "elif grade_p >= 1.0:\n",
    "    letter = \"D\"\n",
    "else:\n",
    "    letter = \"F\"\n",
    "\n",
    "\n",
    "print(f\"The grade point {grade_p} letter grade is {letter} \")"
   ],
   "metadata": {
    "collapsed": false
   }
  },
  {
   "cell_type": "code",
   "execution_count": 5,
   "outputs": [
    {
     "ename": "ValueError",
     "evalue": "could not convert string to float: ''",
     "output_type": "error",
     "traceback": [
      "\u001B[0;31m---------------------------------------------------------------------------\u001B[0m",
      "\u001B[0;31mValueError\u001B[0m                                Traceback (most recent call last)",
      "Cell \u001B[0;32mIn[5], line 2\u001B[0m\n\u001B[1;32m      1\u001B[0m \u001B[38;5;66;03m#54\u001B[39;00m\n\u001B[0;32m----> 2\u001B[0m rating\u001B[38;5;241m=\u001B[39m \u001B[38;5;28;43mfloat\u001B[39;49m\u001B[43m(\u001B[49m\u001B[38;5;28;43minput\u001B[39;49m\u001B[43m(\u001B[49m\u001B[38;5;124;43m\"\u001B[39;49m\u001B[38;5;124;43mEnter the employees rating: \u001B[39;49m\u001B[38;5;124;43m\"\u001B[39;49m\u001B[43m)\u001B[49m\u001B[43m)\u001B[49m\n\u001B[1;32m      3\u001B[0m unacceptable_p \u001B[38;5;241m=\u001B[39m \u001B[38;5;241m0.0\u001B[39m\n\u001B[1;32m      4\u001B[0m acceptable_p \u001B[38;5;241m=\u001B[39m \u001B[38;5;241m0.4\u001B[39m\n",
      "\u001B[0;31mValueError\u001B[0m: could not convert string to float: ''"
     ]
    }
   ],
   "source": [
    "#54\n",
    "rating= float(input(\"Enter the employees rating: \"))\n",
    "unacceptable_p = 0.0\n",
    "acceptable_p = 0.4\n",
    "meritorious_p = 0.6\n",
    "\n",
    "if rating == unacceptable_p:\n",
    "\tamount = rating * 2400.00\n",
    "\tmessage = 'unacceptable'\n",
    "elif rating == acceptable_p:\n",
    "\tamount = rating * 2400.00\n",
    "\tmessage = 'acceptable'\n",
    "elif rating >= meritorious_p:\n",
    "\tamount = rating * 2400.00\n",
    "\tmessage = 'meritorious'\n",
    "else:\n",
    "\tmessage= \"\"\n",
    "\n",
    "if message == \"\":\n",
    "\tprint(\"That wasn't a valid rating\")\n",
    "else:\n",
    "\tprint(f\"The rating {rating} from the user indicates performance is {message} and the employees raise should be {amount}\")"
   ],
   "metadata": {
    "collapsed": false
   }
  },
  {
   "cell_type": "code",
   "execution_count": 6,
   "outputs": [
    {
     "name": "stdout",
     "output_type": "stream",
     "text": [
      "The wavelength is  460 from the user and the associated color is Blue\n"
     ]
    }
   ],
   "source": [
    "# 55\n",
    "wavelength = int(input(\"what is the wavelength:\"))\n",
    "\n",
    "if 380 <= wavelength < 450:\n",
    "\tcolor = \"Violet\"\n",
    "elif 450 <= wavelength < 495:\n",
    "\tcolor = \"Blue\"\n",
    "elif 495 <= wavelength < 570:\n",
    "\tcolor = \"Green\"\n",
    "elif 570 <= wavelength < 590:\n",
    "\tcolor = \"Yellow\"\n",
    "elif 590 <= wavelength < 620:\n",
    "\tcolor = \"Orange\"\n",
    "elif 620<= wavelength <= 750:\n",
    "\tcolor = \"Red\"\n",
    "else:\n",
    "\tcolor = \"\"\n",
    "\n",
    "if color == \"\":\n",
    "\tprint(\"That wasn't a valid wavelength range\")\n",
    "else:\n",
    "\tprint(f\"The wavelength is {wavelength}nm from the user and the associated color is {color}\")\n",
    "\n",
    "\n",
    "\n"
   ],
   "metadata": {
    "collapsed": false
   }
  },
  {
   "cell_type": "code",
   "execution_count": 1,
   "outputs": [
    {
     "name": "stdout",
     "output_type": "stream",
     "text": [
      "This frequency is in the 'infrared light' category.\n"
     ]
    }
   ],
   "source": [
    "frequency = float(input(\"Enter a frequency: \"))\n",
    "\n",
    "category = \"\"\n",
    "\n",
    "if frequency < 3e9:\n",
    "\tcategory = \"radio waves\"\n",
    "elif 3e9 <= frequency < 3e12:\n",
    "\tcategory = \"microwaves\"\n",
    "elif 3e12 <= frequency < 4.3e14:\n",
    "\tcategory = \"infrared light\"\n",
    "elif 4.3e14 <= frequency < 7.5e14:\n",
    "\tcategory = \"visible light\"\n",
    "elif 7.5e14 <= frequency < 3e17:\n",
    "\tcategory = \"ultraviolet light\"\n",
    "elif 3e17 <= frequency < 3e19:\n",
    "\tcategory = \"x-rays\"\n",
    "elif frequency >= 3e19:\n",
    "\tcategory = \"gamma rays\"\n",
    "\n",
    "if category != \"\":\n",
    "\tprint(\"This frequency is in the '{}' category.\".format(category))\n",
    "else:\n",
    "\tprint(\"Invalid frequency entered.\")"
   ],
   "metadata": {
    "collapsed": false
   }
  },
  {
   "cell_type": "code",
   "execution_count": 9,
   "outputs": [
    {
     "name": "stdout",
     "output_type": "stream",
     "text": [
      "Base Charge = $15.00\n",
      "Additional minutes charge = $5.00\n",
      "Additional text messages charge = $3.00\n",
      "Call centre charge = $0.44\n",
      "Tax = $1.17\n",
      "Grand Total = $24.61\n"
     ]
    }
   ],
   "source": [
    "# 57\n",
    "\n",
    "n_min = int(input(\"Enter the number of min:\"))\n",
    "n_text = int(input(\"Enter the number of text messages:\"))\n",
    "\n",
    "base_charge = 15.00\n",
    "additional_text_messages_charge = (n_text - 50) * 0.15\n",
    "additional_minutes_charge = (n_min - 50) * 0.25\n",
    "call_centre_charge = 0.44\n",
    "\n",
    "subtotal = base_charge + additional_text_messages_charge + additional_minutes_charge + call_centre_charge\n",
    "\n",
    "tax = subtotal / 100 * 5\n",
    "total = subtotal + tax\n",
    "\n",
    "\n",
    "print(f\"Base Charge = ${base_charge:.2f}\")\n",
    "\n",
    "if additional_minutes_charge > 0 or additional_text_messages_charge > 0:\n",
    "\tprint(f\"Additional minutes charge = ${additional_minutes_charge:.2f}\")\n",
    "\tprint(f\"Additional text messages charge = ${additional_text_messages_charge:.2f}\")\n",
    "else:\n",
    "\tprint(f\"Print mo additional charges\")\n",
    "\n",
    "print(f\"Call centre charge = ${call_centre_charge:.2f}\")\n",
    "print(f\"Tax = ${tax:.2f}\")\n",
    "print(f\"Grand Total = ${total:.2f}\")\n"
   ],
   "metadata": {
    "collapsed": false
   }
  },
  {
   "cell_type": "code",
   "execution_count": 14,
   "outputs": [
    {
     "name": "stdout",
     "output_type": "stream",
     "text": [
      "Year 2020 is a Leap year\n"
     ]
    }
   ],
   "source": [
    "#58\n",
    "year = int(input(\"enter the year:\"))\n",
    "if year % 400 == 0 or year % 4 == 0 :\n",
    "\tmessage = \"Leap year\"\n",
    "elif  year % 100 == 0 :\n",
    "\tmessage = \"not a Leap year\"\n",
    "else:\n",
    "\tmessage = \"Not a Leap year\"\n",
    "\n",
    "print(f\"Year {year} is a {message}\")\n"
   ],
   "metadata": {
    "collapsed": false
   }
  },
  {
   "cell_type": "code",
   "execution_count": 17,
   "outputs": [
    {
     "name": "stdout",
     "output_type": "stream",
     "text": [
      "The next date is [yyyy-mm-dd] %d-%d-%d. 2023-10-9\n"
     ]
    }
   ],
   "source": [
    "# 59\n",
    "year = int(input(\"Input a year: \"))\n",
    "month = int(input(\"Input a month [1-12]: \"))\n",
    "day = int(input(\"Input a day [1-31]: \"))\n",
    "\n",
    "\n",
    "if year % 400 == 0 or year % 4 == 0:\n",
    "    leap_year = True\n",
    "elif year % 100 == 0:\n",
    "    leap_year = False\n",
    "else:\n",
    "    leap_year = False\n",
    "\n",
    "\n",
    "\n",
    "if month in (1, 3, 5, 7, 8, 10, 12):\n",
    "    month_length = 31\n",
    "elif month == 2:\n",
    "    if leap_year:\n",
    "        month_length = 29\n",
    "    else:\n",
    "        month_length = 28\n",
    "else:\n",
    "    month_length = 30\n",
    "\n",
    "\n",
    "\n",
    "if day < month_length:\n",
    "    day += 1\n",
    "else:\n",
    "    day = 1\n",
    "    if month == 12:\n",
    "        month = 1\n",
    "        year += 1\n",
    "    else:\n",
    "        month += 1\n",
    "print(f\"The next date is [yyyy-mm-dd] {year}-{month}-{day}\")"
   ],
   "metadata": {
    "collapsed": false
   }
  },
  {
   "cell_type": "code",
   "execution_count": 18,
   "outputs": [
    {
     "name": "stdout",
     "output_type": "stream",
     "text": [
      "the year is 2023 and the day of the week for january 1 is Sunday\n"
     ]
    }
   ],
   "source": [
    "#60\n",
    "from math import floor\n",
    "y = int(input(\"what year is it:\"))\n",
    "\n",
    "day_of_the_week = (y +floor((y -1)/4) - floor((year -1)/100) + floor((y -1)/400)) % 7\n",
    "\n",
    "if day_of_the_week ==0:\n",
    "\tday = \"Sunday\"\n",
    "elif day_of_the_week == 1:\n",
    "\tday = \"Monday\"\n",
    "elif day_of_the_week == 2:\n",
    "\tday = \"Tuesday\"\n",
    "elif day_of_the_week == 3:\n",
    "\tday = \"Wednesday\"\n",
    "elif day_of_the_week == 4:\n",
    "\tday = \"Thursday\"\n",
    "elif day_of_the_week == 5:\n",
    "\tday = \"Friday\"\n",
    "else:\n",
    "\tday = \"Saturday\"\n",
    "\n",
    "print(f\"the year is {y} and the day of the week for january 1 is {day}\")"
   ],
   "metadata": {
    "collapsed": false
   }
  },
  {
   "cell_type": "code",
   "execution_count": 11,
   "outputs": [
    {
     "name": "stdout",
     "output_type": "stream",
     "text": [
      "this user is not valid for either style of license plate\n"
     ]
    }
   ],
   "source": [
    "#61\n",
    "def plate_checker():\n",
    "\ttry:\n",
    "\t\tl_plate = input(\"Enter strings of characters\")\n",
    "\t\tif len(l_plate) == 6 and l_plate[:3]==l_plate[:3].upper():\n",
    "\t\t\tif l_plate[:3].isalpha() and l_plate[3:].isnumeric():\n",
    "\t\t\t\tprint(\"The plate is a valid older style plate\")\n",
    "\t\telif len(l_plate) == 7 and l_plate[4:]==l_plate[4:].upper():\n",
    "\t\t\tif l_plate[:4].isnumeric() and l_plate[4:].isalpha():\n",
    "\t\t\t\tprint(\"The plate is a valid new style plate\")\n",
    "\t\telse:\n",
    "\t\t\tprint(\"this user is not valid for either style of license plate\")\n",
    "\texcept Exception as error:\n",
    "\t\tprint(f'an error don happen oo {error}' )\n",
    "\n",
    "plate_checker()\n"
   ],
   "metadata": {
    "collapsed": false
   }
  },
  {
   "cell_type": "code",
   "execution_count": 12,
   "outputs": [
    {
     "name": "stdout",
     "output_type": "stream",
     "text": [
      "The spin resulted in 21\n",
      "Pay 21\n",
      "Pay Red\n",
      "Pay Odd\n",
      "Pay 19 to 36\n"
     ]
    }
   ],
   "source": [
    "#62\n",
    "#simulate spinning the wheel, using 37 to represent\n",
    "from random import randrange\n",
    "value = randrange(0,38)\n",
    "\n",
    "if value == 37:\n",
    "\tprint('The spin resulted in 00')\n",
    "else:\n",
    "\tprint(f\"The spin resulted in {value}\")\n",
    "\n",
    "#Display the payout for a single number\n",
    "if value ==37:\n",
    "\tprint(\"Pay 00\")\n",
    "else:\n",
    "\tprint(\"Pay\", value)\n",
    "# Display the color payout\n",
    "#The first line in the condition checks for 1,3,5,7 and 9\n",
    "#The second line in the condition checks for 12,14,16,18\n",
    "#The third line in the condition checks for 19,21,23,25 and 27\n",
    "#The fourth line in the condition checks for 30,32,34 and 36\n",
    "if value % 2 == 1 and 1 <= value <= 9 or value % 2 == 0 and 12 <= value <= 18 or value % 2 ==1 and 19 <= value <= 27 or value % 2 == 0 and 30 <= value <= 36:\n",
    "\tprint(\"Pay Red\")\n",
    "elif value == 0 or value ==37:\n",
    "\tpass\n",
    "else:\n",
    "\tprint(\"Pay Black\")\n",
    "\n",
    "#Display the odd vs even payout\n",
    "if 1 <= value <= 36:\n",
    "\tif value % 2 == 1:\n",
    "\t\tprint(\"Pay Odd\")\n",
    "\telse:\n",
    "\t\tprint(\"Pay even\")\n",
    "#display the lower numbers vs upper numbers payout\n",
    "if 1 <= value <= 18:\n",
    "\tprint(\"Pay 1 to 18\" )\n",
    "elif 19 <= value <= 36:\n",
    "\tprint(\"Pay 19 to 36\")\n",
    "\n",
    "\n",
    "\n"
   ],
   "metadata": {
    "collapsed": false
   }
  },
  {
   "cell_type": "code",
   "execution_count": null,
   "outputs": [],
   "source": [],
   "metadata": {
    "collapsed": false
   }
  }
 ],
 "metadata": {
  "kernelspec": {
   "display_name": "Python 3",
   "language": "python",
   "name": "python3"
  },
  "language_info": {
   "codemirror_mode": {
    "name": "ipython",
    "version": 2
   },
   "file_extension": ".py",
   "mimetype": "text/x-python",
   "name": "python",
   "nbconvert_exporter": "python",
   "pygments_lexer": "ipython2",
   "version": "2.7.6"
  }
 },
 "nbformat": 4,
 "nbformat_minor": 0
}
